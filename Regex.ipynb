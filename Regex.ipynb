{
  "nbformat": 4,
  "nbformat_minor": 0,
  "metadata": {
    "colab": {
      "provenance": [],
      "authorship_tag": "ABX9TyOaA25sfwuDjfRM8wqwAoXR",
      "include_colab_link": true
    },
    "kernelspec": {
      "name": "python3",
      "display_name": "Python 3"
    },
    "language_info": {
      "name": "python"
    }
  },
  "cells": [
    {
      "cell_type": "markdown",
      "metadata": {
        "id": "view-in-github",
        "colab_type": "text"
      },
      "source": [
        "<a href=\"https://colab.research.google.com/github/naidu199/NLP/blob/main/Regex.ipynb\" target=\"_parent\"><img src=\"https://colab.research.google.com/assets/colab-badge.svg\" alt=\"Open In Colab\"/></a>"
      ]
    },
    {
      "cell_type": "code",
      "execution_count": 14,
      "metadata": {
        "colab": {
          "base_uri": "https://localhost:8080/"
        },
        "id": "dBeREVQ9urQF",
        "outputId": "c15aec61-3fcc-41b4-ba71-228273eec060"
      },
      "outputs": [
        {
          "output_type": "execute_result",
          "data": {
            "text/plain": [
              "[['415-555-1212'], ['555-555-5555'], ['555-555-5555'], ['4155551212']]"
            ]
          },
          "metadata": {},
          "execution_count": 14
        }
      ],
      "source": [
        "\n",
        "#for selecting the phone number from the sentence\n",
        "\n",
        "import re\n",
        "\n",
        "chats = [\"Call me at 415-555-1212\",\n",
        "         \"Email me at john.doe@example.com\",\n",
        "         \"My phone number is 555-555-5555\",\n",
        "         \"My email address is jane.doe@example.com\",\n",
        "         \"I'm calling from 180055512\",\n",
        "         \"Please email me at bob.smith@example.com\",\n",
        "         \"I'm texting you from 555-555-5555\",\n",
        "         \"My email is mary.jones@example.com\",\n",
        "         \"Call me back at 4155551212\",\n",
        "         \"Please email me at peter.doe@example.com\"]\n",
        "\n",
        "\n",
        "pattern='\\d{3}-\\d{3}-\\d{4}|\\d{10}'\n",
        "phone_numbers=[]\n",
        "\n",
        "for chat in chats:\n",
        "  phone=re.findall(pattern,chat)\n",
        "  if(phone):\n",
        "    phone_numbers.append(phone)\n",
        "phone_numbers\n"
      ]
    },
    {
      "cell_type": "code",
      "source": [
        "# for selecting the email from the text\n",
        "\n",
        "pattern='[A-Za-z0-9._%+-]*@[A-Za-z0-9.-]*\\.com'\n",
        "Emails=[]\n",
        "# email=re.findall(pattern,chats[1])\n",
        "# email\n",
        "for chat in chats:\n",
        "  email=re.findall(pattern,chat)\n",
        "  if(email):\n",
        "    Emails.append(email)\n",
        "    print(chat)\n",
        "Emails\n"
      ],
      "metadata": {
        "colab": {
          "base_uri": "https://localhost:8080/"
        },
        "id": "UnjjJevV18MP",
        "outputId": "b8a75d6d-a4db-4a04-b9c5-ff5680118785"
      },
      "execution_count": 23,
      "outputs": [
        {
          "output_type": "stream",
          "name": "stdout",
          "text": [
            "Email me at john.doe@example.com\n",
            "My email address is jane.doe@example.com\n",
            "Please email me at bob.smith@example.com\n",
            "My email is mary.jones@example.com\n",
            "Please email me at peter.doe@example.com\n"
          ]
        },
        {
          "output_type": "execute_result",
          "data": {
            "text/plain": [
              "[['john.doe@example.com'],\n",
              " ['jane.doe@example.com'],\n",
              " ['bob.smith@example.com'],\n",
              " ['mary.jones@example.com'],\n",
              " ['peter.doe@example.com']]"
            ]
          },
          "metadata": {},
          "execution_count": 23
        }
      ]
    },
    {
      "cell_type": "markdown",
      "source": [
        "Exercise Questions\n",
        "1. Extract all twitter handles from following text. Twitter handle is the text that appears after https://twitter.com/ and is a single word. Also it contains only alpha numeric characters i.e. A-Z a-z , o to 9 and underscore _"
      ],
      "metadata": {
        "id": "9vZFsmxWB3BE"
      }
    },
    {
      "cell_type": "code",
      "source": [
        "text1 = '''\n",
        "Follow our leader Elon musk on twitter here: https://twitter.com/elonmusk, more information\n",
        "on Tesla's products can be found at https://www.tesla.com/. Also here are leading influencers\n",
        "for tesla related news,\n",
        "https://twitter.com/teslarati\n",
        "https://twitter.com/dummy_tesla\n",
        "https://twitter.com/dummy_2_tesla\n",
        "'''\n",
        "pattern = '' # todo: type your regex here\n",
        "\n",
        "# re.findall(pattern, text)"
      ],
      "metadata": {
        "id": "i-cRgVl73Z_E"
      },
      "execution_count": 33,
      "outputs": []
    },
    {
      "cell_type": "code",
      "source": [
        "pattern = 'https://twitter\\.com/([a-zA-Z0-9_]*)'\n",
        "\n",
        "re.findall(pattern, text1)"
      ],
      "metadata": {
        "colab": {
          "base_uri": "https://localhost:8080/"
        },
        "id": "bs-MNnKc-2rx",
        "outputId": "08ef8c61-9e69-4b25-b39b-d62cfc46d8c0"
      },
      "execution_count": 34,
      "outputs": [
        {
          "output_type": "execute_result",
          "data": {
            "text/plain": [
              "['elonmusk', 'teslarati', 'dummy_tesla', 'dummy_2_tesla']"
            ]
          },
          "metadata": {},
          "execution_count": 34
        }
      ]
    },
    {
      "cell_type": "markdown",
      "source": [
        "2. Extract Concentration Risk Types. It will be a text that appears after \"Concentration Risk:\", In below example, your regex should extract these two strings\n",
        "\n",
        "(1) Credit Risk\n",
        "\n",
        "(2) Supply Rish"
      ],
      "metadata": {
        "id": "Byag2jGwBcVS"
      }
    },
    {
      "cell_type": "code",
      "source": [
        "text2 = '''\n",
        "Concentration of Risk: Credit Risk\n",
        "Financial instruments that potentially subject us to a concentration of credit risk consist of cash, cash equivalents, marketable securities,\n",
        "restricted cash, accounts receivable, convertible note hedges, and interest rate swaps. Our cash balances are primarily invested in money market funds\n",
        "or on deposit at high credit quality financial institutions in the U.S. These deposits are typically in excess of insured limits. As of September 30, 2021\n",
        "and December 31, 2020, no entity represented 10% or more of our total accounts receivable balance. The risk of concentration for our convertible note\n",
        "hedges and interest rate swaps is mitigated by transacting with several highly-rated multinational banks.\n",
        "Concentration of Risk: Supply Risk\n",
        "We are dependent on our suppliers, including single source suppliers, and the inability of these suppliers to deliver necessary components of our\n",
        "products in a timely manner at prices, quality levels and volumes acceptable to us, or our inability to efficiently manage these components from these\n",
        "suppliers, could have a material adverse effect on our business, prospects, financial condition and operating results.\n",
        "'''\n",
        "pattern = '' # todo: type your regex here\n",
        "\n",
        "# re.findall(pattern, text)"
      ],
      "metadata": {
        "id": "EE7zXoSqA0ZC"
      },
      "execution_count": 35,
      "outputs": []
    },
    {
      "cell_type": "code",
      "source": [
        "pattern = 'Concentration of Risk: ([^\\n]*)' # todo: type your regex here\n",
        "\n",
        "re.findall(pattern, text2)"
      ],
      "metadata": {
        "colab": {
          "base_uri": "https://localhost:8080/"
        },
        "id": "7Xcqdsd4CQSP",
        "outputId": "a4ec57eb-ef66-4057-9c0b-33f59937b4a2"
      },
      "execution_count": 46,
      "outputs": [
        {
          "output_type": "execute_result",
          "data": {
            "text/plain": [
              "['Credit Risk', 'Supply Risk']"
            ]
          },
          "metadata": {},
          "execution_count": 46
        }
      ]
    },
    {
      "cell_type": "markdown",
      "source": [
        "3. Companies in europe reports their financial numbers of semi annual basis and you can have a document like this. To exatract quarterly and semin annual period you can use a regex as shown below\n",
        "\n",
        "Hint: you need to use (?:) here to match everything enclosed"
      ],
      "metadata": {
        "id": "4u-E3NfFEE21"
      }
    },
    {
      "cell_type": "code",
      "source": [
        "text3 = '''\n",
        "Tesla's gross cost of operating lease vehicles in FY2021 Q1 was $4.85 billion.\n",
        "BMW's gross cost of operating vehicles in FY2021 S1 was $8 billion.\n",
        "'''\n",
        "\n",
        "# pattern = '' # todo: type your regex here\n",
        "# matches = re.findall(pattern, text)\n",
        "# matches"
      ],
      "metadata": {
        "id": "Z1Om_V8JC80_"
      },
      "execution_count": 47,
      "outputs": []
    },
    {
      "cell_type": "code",
      "source": [
        "pattern = 'FY(\\d{4} (?:Q[1-4]|S[1-2]))' # todo: type your regex here\n",
        "matches = re.findall(pattern, text3)\n",
        "matches"
      ],
      "metadata": {
        "colab": {
          "base_uri": "https://localhost:8080/"
        },
        "id": "Ip0IrQMNEQRj",
        "outputId": "efaf4d44-2ec9-4779-bf62-a4cda0351593"
      },
      "execution_count": 55,
      "outputs": [
        {
          "output_type": "execute_result",
          "data": {
            "text/plain": [
              "['2021 Q1', '2021 S1']"
            ]
          },
          "metadata": {},
          "execution_count": 55
        }
      ]
    },
    {
      "cell_type": "code",
      "source": [],
      "metadata": {
        "id": "H5abrlNKE2Zd"
      },
      "execution_count": null,
      "outputs": []
    }
  ]
}